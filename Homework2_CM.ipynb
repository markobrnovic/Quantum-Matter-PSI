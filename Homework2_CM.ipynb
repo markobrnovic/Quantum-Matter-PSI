{
  "nbformat": 4,
  "nbformat_minor": 0,
  "metadata": {
    "colab": {
      "provenance": []
    },
    "kernelspec": {
      "name": "python3",
      "display_name": "Python 3"
    },
    "language_info": {
      "name": "python"
    }
  },
  "cells": [
    {
      "cell_type": "code",
      "execution_count": 1,
      "metadata": {
        "id": "R5OqZeFrrQPT"
      },
      "outputs": [],
      "source": [
        "import math\n",
        "from functools import reduce\n",
        "import scipy.linalg as sla\n",
        "import scipy.sparse as sp\n",
        "from scipy.optimize import curve_fit\n",
        "import numpy as np\n",
        "import matplotlib.pyplot as plt"
      ]
    },
    {
      "cell_type": "markdown",
      "source": [
        "**This homework was done in equal part by Zura Jashi and Marko Brnovic. Zura contributed to analytic calculations, Marko converted them to code.**"
      ],
      "metadata": {
        "id": "ewUpxw-ET7Za"
      }
    },
    {
      "cell_type": "markdown",
      "source": [
        "**Part a)**"
      ],
      "metadata": {
        "id": "OwoDu5ZDNahe"
      }
    },
    {
      "cell_type": "markdown",
      "source": [
        "We know that since $| \\varphi \\rangle$ is primary, we have $L_1| \\varphi \\rangle = \\bar{L}_1| \\varphi \\rangle = L_2| \\varphi \\rangle = \\bar{L}_2| \\varphi \\rangle = 0$. Therefore the $L_1, \\bar{L}_1, L_2, \\bar{L}_2$ terms in $O_1$, $O_2$ act trivially on $| \\varphi \\rangle$. With the definition $$\\Gamma_{\\varphi} = \\sum_{\\varphi_{\\alpha}: E_{\\alpha} < E_{\\varphi}} | \\varphi_{\\alpha} \\rangle \\langle \\varphi_{\\alpha} |$$.\n",
        "\n",
        "$$\\implies \\Gamma_{\\varphi} O_n | \\varphi \\rangle = \\frac{1}{2}\\sum_{\\varphi_{\\alpha}: E_{\\alpha} < E_{\\varphi}} \\left[| \\varphi_{\\alpha} \\rangle \\langle \\varphi_{\\alpha} | L_{-n} | \\varphi_{\\alpha} \\rangle\\right] + | \\varphi_{\\alpha} \\rangle \\langle \\varphi_{\\alpha} | \\bar{L}_{-n} | \\varphi_{\\alpha} \\rangle$$\n",
        "\n",
        "If $| \\varphi_{\\alpha} \\rangle$ is a primary operator, it corresponds to the lowest state in its tower. Then, we have to consider two cases:\n",
        "\n",
        "1. $| \\varphi_{\\alpha} \\rangle$ come from the same tower. But then, by definition, $\\Gamma_{\\varphi} = 0$, since there aren't any states with a lower energy than $| \\varphi \\rangle$. Therefore $\\Gamma_{\\varphi} = 0$ identically.\n",
        "\n",
        "2. $| \\varphi_{\\alpha} \\rangle$ come from a different tower. But then, $\\langle \\varphi_{\\alpha} | L_{-n} | \\varphi_{\\alpha} \\rangle = 0$, $\\forall \\varphi_{\\alpha}$, since states from different towers are orthogonal and $L_{-1} | \\varphi_{\\alpha} \\rangle$ only shifts $| \\varphi_{\\alpha} \\rangle$ in the same tower. In both cases, we can see\n",
        "\n",
        "\\begin{equation}\n",
        "  \\boxed{\\Gamma_{\\varphi} O_n | \\varphi \\rangle = 0; \\quad n = 1,2}\n",
        "\\end{equation}"
      ],
      "metadata": {
        "id": "2zEaOqE5NcmS"
      }
    },
    {
      "cell_type": "markdown",
      "source": [
        "Using definitions from tutorial 1 code for the rest of the homeworks. Credits to Mohamed Hibat Allah."
      ],
      "metadata": {
        "id": "hiArb9UdMkK2"
      }
    },
    {
      "cell_type": "code",
      "source": [
        "#\n",
        "#\t**********  BASIC MATRIX DEFINITIONS  **********\n",
        "#\n",
        "\n",
        "Sz = sp.dia_matrix([[1.0,0.0],[0.0,-1.0]])\n",
        "Sx = sp.csc_matrix([[0.0,1.0],[1.0,0.0]])\n",
        "Sy = sp.csc_matrix([[0.0,-1j],[1j,0.0]])\n",
        "\n",
        "def Id(n): #defining the identity matrix\n",
        "\treturn sp.eye(2**n)\n",
        "\n",
        "def Szi(i,n): #defining the Sz operator at site i given n spins\n",
        "\tA = Id(i)\n",
        "\tB = Id(n-i-1)\n",
        "\tD = reduce(sp.kron, [A,Sz,B])\n",
        "\treturn D\n",
        "\n",
        "def Sxi(i,n): #defining the Sx operator at site i given n spins\n",
        "\tA = Id(i)\n",
        "\tB = Id(n-i-1)\n",
        "\tD = reduce(sp.kron, [A,Sx,B])\n",
        "\treturn D\n",
        "\n",
        "def interaction(c,i,j,n): #defining the SzSz operator at sites i, j given n spins\n",
        "\tif (i == j):\n",
        "\t\tprint(\"i and j must be distinct!\")\n",
        "\telif (j<i):\n",
        "\t\treturn interaction(c,j,i,n)\n",
        "\telse:\n",
        "\t\tA = Id(i)\n",
        "\t\tB = Id(j-i-1)\n",
        "\t\tC = Id(n-j-1)\n",
        "\t\tD = reduce(sp.kron, [A,Sz,B,Sz,C])\n",
        "\treturn c*D\n",
        "\n",
        "\n",
        "def NNterm(n): #defining the sum of SzSz terms\n",
        "  #print 'Using Periodic BC'\n",
        "  for i in range(n):\n",
        "    if(i == 0):\n",
        "      H = interaction(1,i,i+1,n)\n",
        "    else:\n",
        "      H = H + interaction(1,i,(i+1)%n,n)\n",
        "  return H\n",
        "\n",
        "def TrField(n): #defining the transverse magnetic field term\n",
        "\tfor i in range(n):\n",
        "\t\tif (i == 0):\n",
        "\t\t\tF = Sxi(i,n)\n",
        "\t\telse:\n",
        "\t\t\tF = F + Sxi(i,n)\n",
        "\treturn F\n",
        "\n",
        "def sparse_diag(N,Bx,num):\n",
        "\t\"\"\"\n",
        "\ta function that provides the spare diagonalization of the 1D TFIM model given a system size N and the transverse field Bx\n",
        "\treturns: (ground state energy, first excited energy, gap)\n",
        "\t\"\"\"\n",
        "\n",
        "\ttrfield = TrField(N)\n",
        "\tinterterm = NNterm(N)\n",
        "\n",
        "\tH = -sp.csc_matrix(interterm + Bx*trfield) #sparce representation of the Hamiltonian\n",
        "\n",
        "\teigenvalues = sp.linalg.eigsh(H, k = num,which='SA')[0]\n",
        "\n",
        "\teigenvectors = sp.linalg.eigsh(H, k = num,which='SA')[1]\n",
        "\treturn eigenvalues, eigenvectors\n",
        "\t#\tNote: val[1] corresponds to the first excited state energy numerically. However you will observe that val[1] will be equal to val[0] at Bx = 0 which is a consequence of the Z2 summetry of the 1D TFIM."
      ],
      "metadata": {
        "id": "aqw-S-LNrUi0"
      },
      "execution_count": 2,
      "outputs": []
    },
    {
      "cell_type": "markdown",
      "source": [
        "Defining new Fourier modes:"
      ],
      "metadata": {
        "id": "11m9cAa0NCBw"
      }
    },
    {
      "cell_type": "code",
      "source": [
        "def NNterm_(N, n): #redefining the sum of SzSz terms in terms of modes\"\n",
        "  #print 'Using Periodic BC'\n",
        "  for i in range(N):\n",
        "    if(i == 0):\n",
        "      H = np.exp(1j * (i + 1/2) * n * 2 * np.pi / N) * interaction(1,i,i+1,N)\n",
        "    else:\n",
        "      H = H + np.exp(1j * (i + 1/2) * n * 2 * np.pi / N) * interaction(1,i,(i+1)%N,N)\n",
        "  return H\n",
        "\n",
        "def TrField_(N, n): #redefining the transverse magnetic field term in terms of modes\n",
        "\tfor i in range(N):\n",
        "\t\tif (i == 0):\n",
        "\t\t\tF = np.exp(1j * i * n * 2 * np.pi / N) * Sxi(i,N)\n",
        "\t\telse:\n",
        "\t\t\tF = F + np.exp(1j * i * n * 2 * np.pi / N) * Sxi(i,N)\n",
        "\treturn F\n",
        "\n",
        "def H_n(N, n):\n",
        "\n",
        "  #Fourier modes of H\n",
        "\n",
        "\ttrfield = TrField_(N, n) * (-N / (2*np.pi))\n",
        "\tinterterm = NNterm_(N, n) * (-N / (2*np.pi))\n",
        "\n",
        "\treturn sp.csc_matrix(interterm + trfield) #sparse representation of the Hamiltonian\n",
        "\n",
        "def O_n(N, n):\n",
        "\n",
        "\treturn (H_n(N, n) + H_n(N, -n)) / 2"
      ],
      "metadata": {
        "id": "ildepe7bNA6m"
      },
      "execution_count": 3,
      "outputs": []
    },
    {
      "cell_type": "markdown",
      "source": [
        "**Part b)**"
      ],
      "metadata": {
        "id": "jh7V9QD1s0ft"
      }
    },
    {
      "cell_type": "code",
      "source": [
        "N = 16 #system size\n",
        "Bx = 1.0 #transverse magnetic field\n",
        "\n",
        "eigva_16, eigve_16 = sparse_diag(N, Bx, 22)"
      ],
      "metadata": {
        "id": "EJhy65zxrV3b"
      },
      "execution_count": 4,
      "outputs": []
    },
    {
      "cell_type": "code",
      "source": [
        "O_1 = O_n(16, 1)\n",
        "\n",
        "O_2 = O_n(16, 2)"
      ],
      "metadata": {
        "id": "FgaY4vz6reCo"
      },
      "execution_count": 5,
      "outputs": []
    },
    {
      "cell_type": "code",
      "source": [
        "def find_norm(eigenvectors, eigenvalues, O):\n",
        "\n",
        "  norms = np.zeros_like(eigenvalues)\n",
        "\n",
        "  for i in range(len(eigenvalues)):\n",
        "\n",
        "    vec = np.zeros(len(eigenvectors[:, 0]), dtype = np.complex128)\n",
        "\n",
        "    for j in range(i):\n",
        "\n",
        "      vec += np.dot(eigenvectors[:, j], O.dot(eigenvectors[:, i])) * eigenvectors[:, j]\n",
        "\n",
        "    norms[i] = np.linalg.norm(vec)\n",
        "\n",
        "  return norms"
      ],
      "metadata": {
        "id": "A2Sd27JDrwvC"
      },
      "execution_count": 6,
      "outputs": []
    },
    {
      "cell_type": "code",
      "source": [
        "norm_1 = find_norm(eigve_16, eigva_16, O_1)\n",
        "norm_2 = find_norm(eigve_16, eigva_16, O_2)"
      ],
      "metadata": {
        "id": "YSRdDn1ksKMe"
      },
      "execution_count": 7,
      "outputs": []
    },
    {
      "cell_type": "code",
      "source": [
        "norm_1 + norm_2"
      ],
      "metadata": {
        "colab": {
          "base_uri": "https://localhost:8080/",
          "height": 0
        },
        "id": "ACswsk-lsV2s",
        "outputId": "ba2d8720-68d1-4127-fd8a-ed0abe9ffc24"
      },
      "execution_count": 8,
      "outputs": [
        {
          "output_type": "execute_result",
          "data": {
            "text/plain": [
              "array([0.00000000e+00, 4.38538095e-15, 1.36424722e-13, 2.02382511e-01,\n",
              "       4.56332291e-01, 1.30464558e+00, 3.39257317e-01, 6.27187034e-01,\n",
              "       1.47477165e+00, 1.57157841e+00, 2.46761652e+00, 4.99197197e-01,\n",
              "       2.61801895e+00, 3.31799676e+00, 2.62049112e+00, 3.21338372e+00,\n",
              "       4.34979458e+00, 4.34979458e+00, 1.40514400e+00, 2.38318589e+00,\n",
              "       1.37694715e+00, 1.93090687e+00])"
            ]
          },
          "metadata": {},
          "execution_count": 8
        }
      ]
    },
    {
      "cell_type": "markdown",
      "source": [
        "Clearly the first three states are primary, the ones after have orders of magnitude higher norms"
      ],
      "metadata": {
        "id": "5a34vxUlsnbG"
      }
    },
    {
      "cell_type": "code",
      "source": [
        "I = eigve_16[:, 0]\n",
        "sigma = eigve_16[:, 1]\n",
        "epsilon = eigve_16[:, 2]"
      ],
      "metadata": {
        "id": "XjgteHPhsagn"
      },
      "execution_count": 9,
      "outputs": []
    },
    {
      "cell_type": "markdown",
      "source": [
        "**Part c)**"
      ],
      "metadata": {
        "id": "THgmezR_tJw2"
      }
    },
    {
      "cell_type": "code",
      "source": [
        "I2_ren = O_2.dot(I) / np.linalg.norm(O_2.dot(I))"
      ],
      "metadata": {
        "id": "xhEWMCeftLRN"
      },
      "execution_count": 10,
      "outputs": []
    },
    {
      "cell_type": "markdown",
      "source": [
        "$$\\langle I^2_{\\mathrm{ren}} | H^{\\mathrm{CFT}} | I^2_{\\mathrm{ren}} \\rangle = \\frac{2 \\pi}{L} \\left(\\Delta^I_{2} - \\frac{c}{12}\\right) = \\frac{2 \\pi}{L} \\left(2 - \\frac{c}{12}\\right)$$\n",
        "\n",
        "$$\\langle I | H^{\\mathrm{CFT}} | I \\rangle = \\frac{2 \\pi}{L} \\left(\\Delta^{I} - \\frac{c}{12}\\right) = -\\frac{\\pi c}{6 L}$$\n",
        "\n",
        "$$ \\langle H^{\\mathrm{CFT}} \\rangle_{I^2_{\\mathrm{ren}}} - \\langle H^{\\mathrm{CFT}} \\rangle_{I} = \\frac{1}{a} \\left[\\langle H \\rangle_{I^2_{\\mathrm{ren}}} - E_I\\right] = \\frac{4\\pi}{L}$$\n",
        "\n",
        "$$\\implies a = \\frac{L}{4\\pi}\\left[\\langle H \\rangle_{I^2_{\\mathrm{ren}}} - E_I\\right]$$"
      ],
      "metadata": {
        "id": "sVzKK_HutZ3c"
      }
    },
    {
      "cell_type": "code",
      "source": [
        "H_16 = -sp.csc_matrix(NNterm(16) + Bx*TrField(16))\n",
        "a = (np.dot(H_16.dot(I2_ren), I2_ren) - eigva_16[0]) * 16 / (4 * np.pi)\n",
        "\n",
        "print(a)"
      ],
      "metadata": {
        "colab": {
          "base_uri": "https://localhost:8080/",
          "height": 0
        },
        "id": "Cd05vuVdtbQf",
        "outputId": "1f804dee-7fbd-4c2b-ac37-78966c7c10a9"
      },
      "execution_count": 11,
      "outputs": [
        {
          "output_type": "stream",
          "name": "stdout",
          "text": [
            "(1.9776049177621247+0j)\n"
          ]
        }
      ]
    },
    {
      "cell_type": "markdown",
      "source": [
        "Very close to 2."
      ],
      "metadata": {
        "id": "ZrOFNvCmwoC4"
      }
    },
    {
      "cell_type": "markdown",
      "source": [
        "Following the previous calculation, we can see\n",
        "\n",
        "$$\\langle H^{\\mathrm{CFT}} \\rangle_{\\sigma} - \\langle H^{\\mathrm{CFT}} \\rangle_{I} = \\frac{E_{\\sigma} - E_{I}}{a} = \\frac{2\\pi \\Delta_{\\sigma}}{L}$$\n",
        "\n",
        "$$\\implies \\Delta_{\\sigma} = \\frac{L\\left(E_{\\sigma} - E_{I}\\right)}{2\\pi a}$$\n",
        "\n",
        "Similarly,\n",
        "\n",
        "$$\\Delta_{\\epsilon} = \\frac{L\\left(E_{\\epsilon} - E_{I}\\right)}{2\\pi a}$$"
      ],
      "metadata": {
        "id": "Z47YtWhPwvAo"
      }
    },
    {
      "cell_type": "code",
      "source": [
        "delta_sigma = (eigva_16[1] - eigva_16[0])  * 16 / (2 * np.pi * a)\n",
        "delta_epsilon = (eigva_16[2] - eigva_16[0])  * 16 / (2 * np.pi * a)"
      ],
      "metadata": {
        "id": "zwLcJ-3zwTVZ"
      },
      "execution_count": 12,
      "outputs": []
    },
    {
      "cell_type": "code",
      "source": [
        "print(delta_sigma, delta_epsilon)"
      ],
      "metadata": {
        "colab": {
          "base_uri": "https://localhost:8080/",
          "height": 0
        },
        "id": "bbZDW6kHx6Db",
        "outputId": "f50928be-05c1-480e-88e5-80f994976bb1"
      },
      "execution_count": 13,
      "outputs": [
        {
          "output_type": "stream",
          "name": "stdout",
          "text": [
            "(0.1265171769606433+0j) (1.0097005565351749+0j)\n"
          ]
        }
      ]
    },
    {
      "cell_type": "markdown",
      "source": [
        "Close enough!"
      ],
      "metadata": {
        "id": "Lx0ZS2FQyIV-"
      }
    },
    {
      "cell_type": "markdown",
      "source": [
        "**Part c)**"
      ],
      "metadata": {
        "id": "pl37_-2MyK58"
      }
    },
    {
      "cell_type": "code",
      "source": [
        "alpha = 2 - 2 / (2 - delta_epsilon)\n",
        "beta = delta_sigma / (2 - delta_epsilon)\n",
        "delta = (2 - delta_sigma) / delta_sigma\n",
        "eta = 2*delta_sigma\n",
        "nu = 1 / (2 - delta_epsilon)"
      ],
      "metadata": {
        "id": "dID7upqFyHrZ"
      },
      "execution_count": 14,
      "outputs": []
    },
    {
      "cell_type": "code",
      "source": [
        "print(alpha, beta, delta, eta, nu)"
      ],
      "metadata": {
        "colab": {
          "base_uri": "https://localhost:8080/",
          "height": 0
        },
        "id": "LzM9zmKjyO9P",
        "outputId": "461456ef-881b-45d1-8cdb-30ae5c7d5df2"
      },
      "execution_count": 15,
      "outputs": [
        {
          "output_type": "stream",
          "name": "stdout",
          "text": [
            "(-0.019591158208137394+0j) (0.12775648597558473+0j) (14.808130153126607+0j) (0.2530343539212866+0j) (1.0097955791040687+0j)\n"
          ]
        }
      ]
    },
    {
      "cell_type": "markdown",
      "source": [
        "Close enough!"
      ],
      "metadata": {
        "id": "UucpeLfMyRJE"
      }
    },
    {
      "cell_type": "code",
      "source": [
        "def critical_exponents(N_min, N_max):\n",
        "\n",
        "  delta_sigmas = np.zeros(N_max - N_min + 1, dtype = np.complex128)\n",
        "  delta_epsilons = np.zeros(N_max - N_min + 1, dtype = np.complex128)\n",
        "\n",
        "  alphas = np.zeros(N_max - N_min + 1, dtype = np.complex128)\n",
        "  betas = np.zeros(N_max - N_min + 1, dtype = np.complex128)\n",
        "  deltas = np.zeros(N_max - N_min + 1, dtype = np.complex128)\n",
        "  etas = np.zeros(N_max - N_min + 1, dtype = np.complex128)\n",
        "  nus = np.zeros(N_max - N_min + 1, dtype = np.complex128)\n",
        "\n",
        "  for i in range(N_min, N_max + 1):\n",
        "\n",
        "    O_2 = O_n(i, 2)\n",
        "\n",
        "    H = -sp.csc_matrix(NNterm(i) + Bx*TrField(i))\n",
        "\n",
        "    eigenvalues, eigenvectors = sparse_diag(i, Bx, 3) #Only choosing the first three states (cheating)\n",
        "\n",
        "    I2_ren = O_2.dot(eigenvectors[:, 0]) / np.linalg.norm(O_2.dot(eigenvectors[:, 0]))\n",
        "\n",
        "    a = (np.dot(H.dot(I2_ren), I2_ren) - eigenvalues[0]) * i / (4 * np.pi)\n",
        "\n",
        "    delta_sigmas[i - N_min] = (eigenvalues[1] - eigenvalues[0])  * i / (2 * np.pi * a)\n",
        "    delta_epsilons[i - N_min] = (eigenvalues[2] - eigenvalues[0])  * i / (2 * np.pi * a)\n",
        "\n",
        "    alphas[i - N_min] = 2 - 2 / (2 - delta_epsilons[i - N_min])\n",
        "    betas[i - N_min] = delta_sigmas[i - N_min] / (2 - delta_epsilons[i - N_min])\n",
        "    deltas[i - N_min] = (2 - delta_sigmas[i - N_min]) / delta_sigmas[i - N_min]\n",
        "    etas[i - N_min] = 2*delta_sigmas[i - N_min]\n",
        "    nus[i - N_min] = 1 / (2 - delta_epsilons[i - N_min])\n",
        "\n",
        "  return delta_sigmas, delta_epsilons, alphas, betas, deltas, etas, nus"
      ],
      "metadata": {
        "id": "n_fYiVCRyPD0"
      },
      "execution_count": 16,
      "outputs": []
    },
    {
      "cell_type": "code",
      "source": [
        "delta_sigmas, delta_epsilons, alphas, betas, deltas, etas, nus = critical_exponents(16, 20)"
      ],
      "metadata": {
        "id": "oSGmey0zylPy"
      },
      "execution_count": 17,
      "outputs": []
    },
    {
      "cell_type": "code",
      "source": [
        "# Create subplots\n",
        "fig, axs = plt.subplots(1, 2, figsize=(8, 4), sharex = True)\n",
        "fig.suptitle('Scaling dimensions for the 1D TFIM from CFT', fontsize=16)\n",
        "\n",
        "x = range(16, 21)\n",
        "\n",
        "# Plot each array in its own subplot\n",
        "axs[0].plot(x, delta_sigmas, color='blue', label = 'Numerical')\n",
        "axs[0].set_xlabel('System size $L$')\n",
        "axs[0].set_ylabel(r'$\\Delta_{\\sigma}$')\n",
        "axs[1].plot(x, delta_epsilons, color='red', label = 'Numerical')\n",
        "axs[1].set_xlabel('System size $L$')\n",
        "axs[1].set_ylabel(r'$\\Delta_{\\epsilon}$')\n",
        "\n",
        "axs[0].hlines(1/8, 16, 20, linestyle='--', color = 'black', label = 'Exact')\n",
        "axs[1].hlines(1, 16, 20, linestyle='--', color = 'black', label = 'Exact')\n",
        "\n",
        "axs[0].legend(loc = 'upper right')\n",
        "axs[1].legend(loc = 'upper right')\n",
        "\n",
        "# axs[0].set_ylim(1/8 - 5e-4, 0.13)\n",
        "# axs[1].set_ylim(1 - 2.5e-3, 1 + 2e-2)\n",
        "\n",
        "plt.tight_layout(rect=[0, 0.03, 1, 0.95])\n",
        "plt.show()"
      ],
      "metadata": {
        "colab": {
          "base_uri": "https://localhost:8080/",
          "height": 436
        },
        "id": "1p935Nb73vTZ",
        "outputId": "ad40d573-6186-41bd-eed9-12c3350c0318"
      },
      "execution_count": 18,
      "outputs": [
        {
          "output_type": "stream",
          "name": "stderr",
          "text": [
            "/usr/local/lib/python3.10/dist-packages/matplotlib/cbook/__init__.py:1335: ComplexWarning: Casting complex values to real discards the imaginary part\n",
            "  return np.asarray(x, float)\n"
          ]
        },
        {
          "output_type": "display_data",
          "data": {
            "text/plain": [
              "<Figure size 800x400 with 2 Axes>"
            ],
            "image/png": "[encoded data removed]"
          },
          "metadata": {}
        }
      ]
    },
    {
      "cell_type": "markdown",
      "source": [
        "Clearly, they are getting closer to the values $\\frac{1}{8}$ and 1 respectively."
      ],
      "metadata": {
        "id": "Esmf0UF_54Ic"
      }
    },
    {
      "cell_type": "code",
      "source": [
        "# Create subplots\n",
        "fig, axs = plt.subplots(2, 3, figsize=(12, 6))\n",
        "fig.suptitle('Critical exponents for the 1D TFIM from CFT', fontsize=16)\n",
        "\n",
        "x = range(16, 21)\n",
        "\n",
        "# Plot each array in its own subplot\n",
        "axs[0, 0].plot(x, alphas, color='green', label='Numerical')\n",
        "axs[0, 0].hlines(0, 16, 20, linestyle='--', color='black', label='Exact')\n",
        "axs[0, 0].set_xlabel('System size $L$')\n",
        "axs[0, 0].set_ylabel(r'$\\alpha$')\n",
        "\n",
        "axs[0, 1].plot(x, betas, color='orange', label='Numerical')\n",
        "axs[0, 1].hlines(1/8, 16, 20, linestyle='--', color='black', label='Exact')\n",
        "axs[0, 1].set_xlabel('System size $L$')\n",
        "axs[0, 1].set_ylabel(r'$\\beta$')\n",
        "\n",
        "axs[0, 2].plot(x, deltas, color='cyan', label='Numerical')\n",
        "axs[0, 2].hlines(15, 16, 20, linestyle='--', color='black', label='Exact')\n",
        "axs[0, 2].set_xlabel('System size $L$')\n",
        "axs[0, 2].set_ylabel(r'$\\delta$')\n",
        "\n",
        "axs[1, 0].plot(x, etas, color='magenta', label='Numerical')\n",
        "axs[1, 0].hlines(1/4, 16, 20, linestyle='--', color='black', label='Exact')\n",
        "axs[1, 0].set_xlabel('System size $L$')\n",
        "axs[1, 0].set_ylabel(r'$\\eta$')\n",
        "\n",
        "axs[1, 2].plot(x, nus, color='purple', label='Numerical')\n",
        "axs[1, 2].hlines(1, 16, 20, linestyle='--', color='black', label='Exact')\n",
        "axs[1, 2].set_xlabel('System size $L$')\n",
        "axs[1, 2].set_ylabel(r'$\\nu$')\n",
        "\n",
        "# Hide empty subplots\n",
        "axs[1, 1].axis('off')\n",
        "\n",
        "# Set legends\n",
        "for ax in axs.flat:\n",
        "    ax.legend(loc='upper right')\n",
        "\n",
        "# Set y-axis limits for better visualization\n",
        "# axs[0, 0].set_ylim(1.8, 6.2)\n",
        "# axs[0, 1].set_ylim(1.8, 6.2)\n",
        "# axs[1, 0].set_ylim(2.8, 7.2)\n",
        "# axs[1, 1].set_ylim(2.8, 7.2)\n",
        "# axs[2, 0].set_ylim(3.8, 8.2)\n",
        "\n",
        "plt.tight_layout(rect=[0, 0.03, 1, 0.95])\n",
        "plt.show()"
      ],
      "metadata": {
        "colab": {
          "base_uri": "https://localhost:8080/",
          "height": 608
        },
        "id": "u-RPtJn31hye",
        "outputId": "90d2b073-f1fd-4631-b931-926272658cf9"
      },
      "execution_count": 19,
      "outputs": [
        {
          "output_type": "stream",
          "name": "stderr",
          "text": [
            "WARNING:matplotlib.legend:No artists with labels found to put in legend.  Note that artists whose label start with an underscore are ignored when legend() is called with no argument.\n"
          ]
        },
        {
          "output_type": "display_data",
          "data": {
            "text/plain": [
              "<Figure size 1200x600 with 6 Axes>"
            ],
            "image/png": "[encoded data removed]"
          },
          "metadata": {}
        }
      ]
    },
    {
      "cell_type": "markdown",
      "source": [
        "Clearly increasing system size brings us closer to the exact values."
      ],
      "metadata": {
        "id": "PFU5prUaHbWV"
      }
    },
    {
      "cell_type": "code",
      "source": [
        "def scaling_dim(O, state):\n",
        "\n",
        "  ren_state = O.dot(state) / np.linalg.norm(O.dot(state))\n",
        "\n",
        "  return np.dot(H_16.dot(ren_state), ren_state), (np.dot(H_16.dot(ren_state), ren_state) - eigva_16[0])  * 16 / (2 * np.pi * a)"
      ],
      "metadata": {
        "id": "0wboRSYeHfMV"
      },
      "execution_count": 20,
      "outputs": []
    },
    {
      "cell_type": "markdown",
      "source": [
        "**Part f)**"
      ],
      "metadata": {
        "id": "3PH8AGKmIiGv"
      }
    },
    {
      "cell_type": "code",
      "source": [
        "print('n = 1, I:', np.real(scaling_dim(O_1, I)[1]), 'finite size => large error')\n",
        "\n",
        "print('n = 2, I:', np.real(scaling_dim(O_2, I)[1]), 'equal to 2')\n",
        "\n",
        "print('n = 1, sigma:', np.real(scaling_dim(O_1, sigma)[1]), 'approximately equal to 1 + 1/8')\n",
        "\n",
        "print('n = 2, sigma:', np.real(scaling_dim(O_2, sigma)[1]), 'approximately equal to 2 + 1/8')\n",
        "\n",
        "print('n = 1, epsilon:', np.real(scaling_dim(O_1, epsilon)[1]), 'approximately equal to 1 + 1')\n",
        "\n",
        "print('n = 1, epsilon:', np.real(scaling_dim(O_2, epsilon)[1]), 'approximately equal to 2 + 1')"
      ],
      "metadata": {
        "colab": {
          "base_uri": "https://localhost:8080/",
          "height": 0
        },
        "id": "xXgIhahsHrYx",
        "outputId": "032daed2-3726-426a-eb34-316597017336"
      },
      "execution_count": 21,
      "outputs": [
        {
          "output_type": "stream",
          "name": "stdout",
          "text": [
            "n = 1, I: 2.281351901994459 finite size => large error\n",
            "n = 2, I: 2.0 equal to 2\n",
            "n = 1, sigma: 1.1313557493370219 approximately equal to 1 + 1/8\n",
            "n = 2, sigma: 2.0975789388968678 approximately equal to 2 + 1/8\n",
            "n = 1, epsilon: 2.0000000000000275 approximately equal to 1 + 1\n",
            "n = 1, epsilon: 2.9328416781480624 approximately equal to 2 + 1\n"
          ]
        }
      ]
    },
    {
      "cell_type": "code",
      "source": [
        "print(np.real(scaling_dim(O_1, I)[0]), np.real(scaling_dim(O_2, I)[0]), np.real(scaling_dim(O_1, sigma)[0]), np.real(scaling_dim(O_2, sigma)[0]), np.real(scaling_dim(O_1, epsilon)[0]), np.real(scaling_dim(O_2, epsilon)[0]))"
      ],
      "metadata": {
        "colab": {
          "base_uri": "https://localhost:8080/",
          "height": 0
        },
        "id": "WhM0H5RXITSd",
        "outputId": "4a446266-a32b-4a36-85da-959be7f12d45"
      },
      "execution_count": 22,
      "outputs": [
        {
          "output_type": "stream",
          "name": "stdout",
          "text": [
            "-18.63288829457018 -18.851387204420526 -19.525979487153236 -18.775607045757376 -18.851387204420504 -18.12693896613446\n"
          ]
        }
      ]
    },
    {
      "cell_type": "code",
      "source": [
        "print(eigva_16)"
      ],
      "metadata": {
        "colab": {
          "base_uri": "https://localhost:8080/",
          "height": 0
        },
        "id": "tcF9P0z-J80b",
        "outputId": "8fd72249-cefc-4747-cf14-43369930b97b"
      },
      "execution_count": 23,
      "outputs": [
        {
          "output_type": "stream",
          "name": "stdout",
          "text": [
            "[-20.40459447 -20.30634078 -19.62045735 -19.52597949 -19.52597949\n",
            " -18.8513872  -18.8513872  -18.8513872  -18.8513872  -18.77560705\n",
            " -18.77560705 -18.7456182  -18.12693897 -18.12693897 -18.12693897\n",
            " -18.12693897 -18.08405984 -18.08405984 -18.08231706 -17.99524576\n",
            " -17.99524576 -17.99524576]\n"
          ]
        }
      ]
    },
    {
      "cell_type": "markdown",
      "source": [
        "Again, we can see that $O_1 | I \\rangle$ give us an energy we cannot find in the spectrum, signifying finite system size error. On the other hand, we can identify using the rule $| i \\rangle$ for the i$^{\\text{th}}$ energy in the spectrum (noting the degeneracies) starting from $i = 0$ corresponding to the ground state:\n",
        "\n",
        "$$O_2 | I \\rangle = | 4 \\rangle$$\n",
        "$$O_1 | \\sigma \\rangle = | 5 \\rangle$$\n",
        "$$O_2 | \\sigma \\rangle = | 3 \\rangle$$\n",
        "$$O_1 | \\epsilon \\rangle = | 4 \\rangle$$\n",
        "$$O_2 | \\epsilon \\rangle = | 7 \\rangle$$\n",
        "\n",
        "so clearly $O_n$ are raising primaries to descendants."
      ],
      "metadata": {
        "id": "fqOJJck3KI-b"
      }
    },
    {
      "cell_type": "markdown",
      "source": [
        "**Part g)**"
      ],
      "metadata": {
        "id": "odUXh11eLnxq"
      }
    },
    {
      "cell_type": "markdown",
      "source": [
        "$c \\approx 2\\langle I |H^{\\mathrm{CFT}, \\dagger}_2 H^{\\mathrm{CFT}}_2 | I \\rangle = \\frac{2}{a^2}\\langle I |H^{\\dagger}_2 H_2 | I \\rangle$"
      ],
      "metadata": {
        "id": "NqDlTT0bLvMf"
      }
    },
    {
      "cell_type": "code",
      "source": [
        "c = np.dot(H_n(16, 2).getH().dot(eigve_16[:, 0]), H_n(16, 2).dot(eigve_16[:, 0])) / a**2 * 2"
      ],
      "metadata": {
        "id": "sc8w_6iaLp-W"
      },
      "execution_count": 24,
      "outputs": []
    },
    {
      "cell_type": "code",
      "source": [
        "print(c)"
      ],
      "metadata": {
        "colab": {
          "base_uri": "https://localhost:8080/",
          "height": 0
        },
        "id": "ZqStNALzMhBC",
        "outputId": "ff836dc5-f9c3-4331-e0b8-0dbc5206165a"
      },
      "execution_count": 25,
      "outputs": [
        {
          "output_type": "stream",
          "name": "stdout",
          "text": [
            "(0.5097476069337805+0j)\n"
          ]
        }
      ]
    }
  ]
}